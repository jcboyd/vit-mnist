{
  "cells": [
    {
      "cell_type": "markdown",
      "source": [
        "# Visual Transformer (ViT) - MNIST"
      ],
      "metadata": {
        "id": "bIDV73Degelc"
      }
    },
    {
      "cell_type": "markdown",
      "source": [
        "## Data"
      ],
      "metadata": {
        "id": "1xHAT1e5SD61"
      }
    },
    {
      "cell_type": "code",
      "execution_count": 1,
      "metadata": {
        "colab": {
          "base_uri": "https://localhost:8080/"
        },
        "id": "2VkaXgYT7WxZ",
        "outputId": "68aa7605-9885-48c1-fd6f-66d353b0000b"
      },
      "outputs": [
        {
          "output_type": "stream",
          "name": "stdout",
          "text": [
            "cuda\n"
          ]
        }
      ],
      "source": [
        "import sys\n",
        "import torch\n",
        "import torchvision\n",
        "\n",
        "def write_flush(*text_args, stream=sys.stdout):\n",
        "    stream.write(', '.join(map(str, text_args)) + '\\n')\n",
        "    stream.flush()\n",
        "    return\n",
        "\n",
        "device = torch.device('cuda') if torch.cuda.is_available() else torch.device('cpu')\n",
        "write_flush(str(device))\n",
        "\n",
        "dataset = 'MNIST'\n",
        "\n",
        "if dataset == 'MNIST':\n",
        "\n",
        "    tr_img = torchvision.datasets.MNIST('./datasets/', train=True, download=True)\n",
        "    te_img = torchvision.datasets.MNIST('./datasets/', train=False, download=True)\n",
        "\n",
        "    nb_channels = 1\n",
        "\n",
        "else:\n",
        "    tr_img = torchvision.datasets.CIFAR10('./datasets/', train=True, download=True)\n",
        "    te_img = torchvision.datasets.CIFAR10('./datasets/', train=False, download=True)\n",
        "\n",
        "    nb_channels = 3\n",
        "\n",
        "    tr_img.data = torch.Tensor(tr_img.data).permute((0, 3, 1, 2)).long()\n",
        "    te_img.data = torch.Tensor(te_img.data).permute((0, 3, 1, 2)).long()\n",
        "\n",
        "    tr_img.targets = torch.Tensor(tr_img.targets).long()\n",
        "    te_img.targets = torch.Tensor(te_img.targets).long()\n",
        "\n",
        "img_size = tr_img.data.shape[-1]\n",
        "nb_classes = len(tr_img.classes)"
      ]
    },
    {
      "cell_type": "code",
      "execution_count": 2,
      "metadata": {
        "colab": {
          "base_uri": "https://localhost:8080/",
          "height": 479
        },
        "id": "9GdqzIs__4uc",
        "outputId": "55a4113a-4fd8-470a-84f1-970108b2d60b"
      },
      "outputs": [
        {
          "output_type": "display_data",
          "data": {
            "text/plain": [
              "<Figure size 640x480 with 6 Axes>"
            ],
            "image/png": "[encoded data removed]"
          },
          "metadata": {}
        }
      ],
      "source": [
        "import matplotlib.pyplot as plt\n",
        "\n",
        "fig, axes = plt.subplots(nrows=2, ncols=3)\n",
        "\n",
        "def vis_img(img):\n",
        "    if len(img.shape) == 2:\n",
        "        return img\n",
        "    return img.permute((1, 2, 0)).squeeze()\n",
        "\n",
        "for i, ax in enumerate(axes.ravel()):\n",
        "    ax.imshow(vis_img(tr_img.data[i]), cmap='gray')\n",
        "    ax.axis('off')\n",
        "    ax.set_title(f'Label: {tr_img.targets[i]}')\n",
        "\n",
        "plt.tight_layout()"
      ]
    },
    {
      "cell_type": "code",
      "execution_count": 3,
      "metadata": {
        "colab": {
          "base_uri": "https://localhost:8080/",
          "height": 502
        },
        "id": "7MQTA_maKHD4",
        "outputId": "01c6d0f7-9ac6-46af-a148-848af3459b61"
      },
      "outputs": [
        {
          "output_type": "stream",
          "name": "stderr",
          "text": [
            "/usr/local/lib/python3.10/dist-packages/torchvision/transforms/functional.py:1603: UserWarning: The default value of the antialias parameter of all the resizing transforms (Resize(), RandomResizedCrop(), etc.) will change from None to True in v0.17, in order to be consistent across the PIL and Tensor backends. To suppress this warning, directly pass antialias=True (recommended, future default), antialias=None (current default, which means False for Tensors and True for PIL), or antialias=False (only works on Tensors - PIL will still use antialiasing). This also applies if you are using the inference transforms from the models weights: update the call to weights.transforms(antialias=True).\n",
            "  warnings.warn(\n"
          ]
        },
        {
          "output_type": "execute_result",
          "data": {
            "text/plain": [
              "<matplotlib.image.AxesImage at 0x7effd576bac0>"
            ]
          },
          "metadata": {},
          "execution_count": 3
        },
        {
          "output_type": "display_data",
          "data": {
            "text/plain": [
              "<Figure size 640x480 with 1 Axes>"
            ],
            "image/png": "[encoded data removed]"
          },
          "metadata": {}
        }
      ],
      "source": [
        "import torchvision.transforms.functional as F\n",
        "\n",
        "def data_augmentation(img):\n",
        "\n",
        "    assert -1e-5 < torch.min(img) and torch.max(img) < (1 + 1e-5)\n",
        "\n",
        "    if len(img.shape) == 2:\n",
        "        img = img.unsqueeze(0)\n",
        "\n",
        "    h, w = img.shape[-2:]\n",
        "    d_h, d_w = torch.randint(3, (1,)), torch.randint(3, (1,))\n",
        "\n",
        "    img = F.resized_crop(img, d_h, d_w, h - d_h, w - d_w, size=(h, w))\n",
        "\n",
        "    if torch.randn((1,)) > 0.5:\n",
        "\n",
        "        img = F.hflip(img)\n",
        "\n",
        "    img = F.gaussian_blur(img, kernel_size=5, sigma=torch.rand((1,)).item() + 1e-5)\n",
        "\n",
        "    brightness_factor = 2 ** (-1 + 2 * torch.rand((1,)).item())\n",
        "    img = F.adjust_brightness(img, brightness_factor)\n",
        "\n",
        "    contrast_factor = 2 ** (-1 + 2 * torch.rand((1,)).item())\n",
        "    img = F.adjust_contrast(img, contrast_factor)\n",
        "\n",
        "    saturation_factor = 2 ** (-1 + 2 * torch.rand((1,)).item())\n",
        "    img = F.adjust_saturation(img, saturation_factor)\n",
        "\n",
        "    hue_factor = torch.rand((1,)).item() - 0.5\n",
        "    img = F.adjust_hue(img, hue_factor)\n",
        "\n",
        "    return img\n",
        "\n",
        "img = data_augmentation(tr_img.data[0] / 255.)\n",
        "plt.imshow(vis_img(img))"
      ]
    },
    {
      "cell_type": "code",
      "source": [
        "import torch.nn as nn\n",
        "\n",
        "\n",
        "n_rows, n_cols = 4, 4\n",
        "d_h, d_w = img_size // n_rows, img_size // n_cols\n",
        "d_input = nb_channels * d_h * d_w\n",
        "max_len = n_rows * n_cols\n",
        "\n",
        "\n",
        "class Patchify(nn.Module):\n",
        "\n",
        "    def __init__(self, d_h, d_w):\n",
        "\n",
        "        super(Patchify, self).__init__()\n",
        "\n",
        "        self.d_h = d_h\n",
        "        self.d_w = d_w\n",
        "\n",
        "    def forward(self, x):\n",
        "\n",
        "        x = x.unfold(2, self.d_h, self.d_h)\n",
        "        x = x.unfold(3, self.d_w, self.d_w)\n",
        "\n",
        "        x = x.permute((0, 2, 3, 1, 4, 5))\n",
        "        x = x.flatten(1, 2).flatten(2, 4)\n",
        "\n",
        "        return x\n",
        "\n",
        "patchify = Patchify(d_h, d_w)\n",
        "patches = patchify(img.unsqueeze(0))\n",
        "\n",
        "fig, axes = plt.subplots(ncols=n_rows, nrows=n_cols)\n",
        "\n",
        "for i, ax in enumerate(axes.ravel()):\n",
        "    patch = patches[0, i].reshape(nb_channels, d_h, d_w)\n",
        "    ax.imshow(patch.permute((1, 2, 0)))\n",
        "    ax.axis('off')\n",
        "\n",
        "plt.tight_layout()"
      ],
      "metadata": {
        "colab": {
          "base_uri": "https://localhost:8080/",
          "height": 487
        },
        "id": "YvHft2kqOGSD",
        "outputId": "0bcf9911-588a-4875-c9b8-ad95c6a1c83d"
      },
      "execution_count": 4,
      "outputs": [
        {
          "output_type": "display_data",
          "data": {
            "text/plain": [
              "<Figure size 640x480 with 16 Axes>"
            ],
            "image/png": "[encoded data removed]"
          },
          "metadata": {}
        }
      ]
    },
    {
      "cell_type": "code",
      "source": [
        "def sample_batch(imgs, labels, nb_batch=128):\n",
        "\n",
        "    while True:\n",
        "        # Pytorch randint trick (1000x faster than torch.randperm):\n",
        "        x = torch.arange(imgs.shape[0])\n",
        "        idx = x[torch.randint(0, x.shape[0], (nb_batch,))]\n",
        "\n",
        "        x_batch = imgs[idx] / 255.\n",
        "\n",
        "        if len(x_batch.shape) == 3:\n",
        "            x_batch = x_batch.unsqueeze(1)\n",
        "\n",
        "        #x_batch = torch.stack([data_augmentation(x) for x in x_batch])\n",
        "        x_batch = 2 * x_batch - 1\n",
        "\n",
        "        y_batch = labels[idx]\n",
        "\n",
        "        yield x_batch, y_batch\n",
        "\n",
        "def iterate_dataset(imgs, labels, nb_batch=128):\n",
        "\n",
        "    N = imgs.shape[0]\n",
        "\n",
        "    for i in range(0, N, nb_batch):\n",
        "\n",
        "        x_batch = imgs[i:i+nb_batch] / 127.5 - 1\n",
        "        if len(x_batch.shape) == 3:\n",
        "            x_batch = x_batch.unsqueeze(1)\n",
        "        y_batch = labels[i:i+nb_batch]\n",
        "\n",
        "        yield x_batch, y_batch\n",
        "\n",
        "train_gen = sample_batch(tr_img.data, tr_img.targets)\n",
        "x_batch, y_batch = next(train_gen)\n",
        "\n",
        "write_flush(x_batch.shape)\n",
        "write_flush(y_batch.shape)"
      ],
      "metadata": {
        "colab": {
          "base_uri": "https://localhost:8080/"
        },
        "id": "_TWQpYU5NDD3",
        "outputId": "1730c610-5d67-4827-e2b0-659e338f09d7"
      },
      "execution_count": 5,
      "outputs": [
        {
          "output_type": "stream",
          "name": "stdout",
          "text": [
            "torch.Size([128, 1, 28, 28])\n",
            "torch.Size([128])\n"
          ]
        }
      ]
    },
    {
      "cell_type": "markdown",
      "source": [
        "## Model"
      ],
      "metadata": {
        "id": "BcGLEu0ESCd1"
      }
    },
    {
      "cell_type": "code",
      "source": [
        "import math\n",
        "\n",
        "class PositionalEncoding(nn.Module):\n",
        "\n",
        "    def __init__(self, max_len, d_model, dropout=0.1):\n",
        "\n",
        "        super(PositionalEncoding, self).__init__()\n",
        "\n",
        "        position = torch.arange(max_len).unsqueeze(1)\n",
        "        div_term = torch.exp(torch.arange(0, d_model, 2) * (-math.log(max_len) / d_model))\n",
        "        pe = torch.zeros(1, max_len, d_model)\n",
        "\n",
        "        pe[0, :, 0::2] = torch.sin(position * div_term)\n",
        "        pe[0, :, 1::2] = torch.cos(position * div_term)#[:, :-1]\n",
        "\n",
        "        self.register_buffer('pe', pe)\n",
        "\n",
        "    def forward(self, x):\n",
        "\n",
        "        return x + self.pe[:, :x.shape[1]]\n",
        "\n",
        "    def visualise(self):\n",
        "        fig, ax = plt.subplots()\n",
        "        ax.imshow(self.pe[0])\n",
        "        plt.show()\n",
        "\n",
        "pe = PositionalEncoding(max_len=16, d_model=64)\n",
        "pe.visualise()"
      ],
      "metadata": {
        "colab": {
          "base_uri": "https://localhost:8080/",
          "height": 186
        },
        "id": "GCxtALE9YTd2",
        "outputId": "21ca492b-c8a8-47f0-ba53-b1fb18cfdcf2"
      },
      "execution_count": 6,
      "outputs": [
        {
          "output_type": "display_data",
          "data": {
            "text/plain": [
              "<Figure size 640x480 with 1 Axes>"
            ],
            "image/png": "[encoded data removed]"
          },
          "metadata": {}
        }
      ]
    },
    {
      "cell_type": "code",
      "source": [
        "from functools import reduce\n",
        "from torch import nn\n",
        "\n",
        "\n",
        "def count_params(net):\n",
        "    nb_params = 0\n",
        "    for param in net.parameters():\n",
        "        nb_params += reduce(lambda x, y : x * y, param.shape)\n",
        "    return nb_params\n",
        "\n",
        "class Transformer(nn.Module):\n",
        "\n",
        "    def __init__(\n",
        "        self,\n",
        "        d_input: int,\n",
        "        n_layers: int = 4,\n",
        "        d_model: int = 256,\n",
        "        n_head: int = 7,\n",
        "        d_hidden: int = 256,\n",
        "        max_len: int = 16,\n",
        "        p_dropout: float = 0.1,\n",
        "        nb_classes: int = 10\n",
        "    ):\n",
        "        \"\"\"\n",
        "        n_layers - number of transformer modules\n",
        "        d_model  - dimension of token embeddings\n",
        "        d_head   - number of self-attention heads in each layer\n",
        "        d_hidden - hidden dimension in self-attention heads (K/Q/V dimension)\n",
        "        \"\"\"\n",
        "\n",
        "        super(Transformer, self).__init__()\n",
        "\n",
        "        self.d_model = d_model\n",
        "\n",
        "        self.register_buffer('cls_token', torch.Tensor([[1]]))\n",
        "        self.cls_encoder = nn.Linear(1, d_model)\n",
        "\n",
        "        self.patchify = Patchify(d_h, d_w)\n",
        "\n",
        "        self.encoder = nn.Linear(d_input, d_model)\n",
        "\n",
        "        self.pos_encoder = PositionalEncoding(max_len=max_len, d_model=d_model)\n",
        "\n",
        "        encoder_layers = nn.TransformerEncoderLayer(\n",
        "            d_model, n_head, d_hidden, p_dropout, batch_first=True\n",
        "        )\n",
        "        self.transformer_encoder = nn.TransformerEncoder(encoder_layers, n_layers)\n",
        "\n",
        "        self.decoder = nn.Sequential(\n",
        "            nn.Dropout(p=p_dropout),\n",
        "            nn.Linear(d_model, d_model),\n",
        "            nn.ReLU(inplace=True),\n",
        "            nn.Linear(d_model, nb_classes),\n",
        "        )\n",
        "\n",
        "    def forward(self, x, pe=True):\n",
        "\n",
        "        batch_cls_token = self.cls_token.repeat(x.shape[0], 1)\n",
        "        batch_cls_token = self.cls_encoder(batch_cls_token).unsqueeze(1)\n",
        "\n",
        "        x = self.patchify(x)\n",
        "        x = self.encoder(x)\n",
        "\n",
        "        if pe:\n",
        "            x = self.pos_encoder(x)\n",
        "\n",
        "        x = torch.cat([batch_cls_token, x], axis=1)\n",
        "\n",
        "        x = self.transformer_encoder(x)\n",
        "        x = self.decoder(x[:, 0])\n",
        "\n",
        "        return x\n",
        "\n",
        "model = Transformer(d_input,\n",
        "                    d_model=256,\n",
        "                    n_layers=4,\n",
        "                    n_head=8,\n",
        "                    d_hidden=256,\n",
        "                    p_dropout=0.1).to(device)\n",
        "\n",
        "print('Number of parameters: %d' % count_params(model))\n",
        "\n",
        "preds = model(x_batch.to(device))\n",
        "print(preds.shape)"
      ],
      "metadata": {
        "colab": {
          "base_uri": "https://localhost:8080/"
        },
        "id": "i5seDnbnYZm-",
        "outputId": "d115c627-72a9-4dec-f7a0-30455595e06f"
      },
      "execution_count": 7,
      "outputs": [
        {
          "output_type": "stream",
          "name": "stdout",
          "text": [
            "Number of parameters: 1664778\n",
            "torch.Size([128, 10])\n"
          ]
        }
      ]
    },
    {
      "cell_type": "markdown",
      "source": [
        "#### Why do transformers need to a positional encoding in a transformer?\n",
        "\n",
        "Because otherwise there is no mechanism within a transformer for tokens to learn their sequence position. Recall transformers consist of fully-connected layers and self-attention layers. The fully-connected layers are applied token-wise (equivalent to a 1D convolution with kernel size 1). Self-attention is permutation invariant. Hence, each successive token embedding will be invariant to the sequence position of the token. In other words, without a positional encoding, **any permutation of the input sequence will result in the same outputs**.\n",
        "\n",
        "Note CNNs do not have this problem because convolutions are typically applied over wider neighbourhoods, giving each pixel an increasing receptive field in which it is context-aware."
      ],
      "metadata": {
        "id": "aEtwfNvkAyDY"
      }
    },
    {
      "cell_type": "code",
      "source": [
        "x_sample = x_batch[:1]\n",
        "x_sample_permuted = torch.cat([x_sample[..., img_size // 2:],\n",
        "                               x_sample[..., :img_size // 2]], axis=3)\n",
        "\n",
        "fig, axes = plt.subplots(ncols=2)\n",
        "\n",
        "axes[0].imshow(vis_img(x_sample.squeeze()))\n",
        "axes[0].set_title('original')\n",
        "axes[1].imshow(vis_img(x_sample_permuted.squeeze()))\n",
        "axes[1].set_title('permuted')"
      ],
      "metadata": {
        "colab": {
          "base_uri": "https://localhost:8080/",
          "height": 325
        },
        "id": "bafQeb8qIJa2",
        "outputId": "bd3b2ad2-79c8-4ded-c363-61e076c8fe54"
      },
      "execution_count": 8,
      "outputs": [
        {
          "output_type": "execute_result",
          "data": {
            "text/plain": [
              "Text(0.5, 1.0, 'permuted')"
            ]
          },
          "metadata": {},
          "execution_count": 8
        },
        {
          "output_type": "display_data",
          "data": {
            "text/plain": [
              "<Figure size 640x480 with 2 Axes>"
            ],
            "image/png": "[encoded data removed]"
          },
          "metadata": {}
        }
      ]
    },
    {
      "cell_type": "code",
      "source": [
        "model.eval()\n",
        "\n",
        "probs = model(x_sample.to(device))\n",
        "probs_permuted = model(x_sample_permuted.to(device))\n",
        "\n",
        "print('With positional encoding:')\n",
        "print(f'Same? {torch.all(torch.abs(probs - probs_permuted) < 1e-5).item()}')\n",
        "\n",
        "probs = model(x_sample.to(device), pe=False)\n",
        "probs_permuted = model(x_sample_permuted.to(device), pe=False)\n",
        "\n",
        "print('Without positional encoding:')\n",
        "print(f'Same? {torch.all(torch.abs(probs - probs_permuted) < 1e-5).item()}')"
      ],
      "metadata": {
        "colab": {
          "base_uri": "https://localhost:8080/"
        },
        "id": "-4w1PHtf68RG",
        "outputId": "976ab13e-2e79-4ae5-89a9-6e51f24f6e49"
      },
      "execution_count": 9,
      "outputs": [
        {
          "output_type": "stream",
          "name": "stdout",
          "text": [
            "With positional encoding:\n",
            "Same? False\n",
            "Without positional encoding:\n",
            "Same? True\n"
          ]
        }
      ]
    },
    {
      "cell_type": "markdown",
      "source": [
        "## Training"
      ],
      "metadata": {
        "id": "xtiyq5KuSIOT"
      }
    },
    {
      "cell_type": "code",
      "execution_count": 10,
      "metadata": {
        "colab": {
          "base_uri": "https://localhost:8080/"
        },
        "id": "A-QzMv0Lf56e",
        "outputId": "0f4307dd-c5e5-4a15-b3e1-6dd86dd49440"
      },
      "outputs": [
        {
          "output_type": "stream",
          "name": "stdout",
          "text": [
            "[00] Tr. Loss: 0.8044 Te. Loss: 0.2155 Tr. Acc: 0.7528 Te. Acc: 0.9351\n",
            "[01] Tr. Loss: 0.1692 Te. Loss: 0.1262 Tr. Acc: 0.9494 Te. Acc: 0.9601\n",
            "[02] Tr. Loss: 0.1117 Te. Loss: 0.0941 Tr. Acc: 0.9663 Te. Acc: 0.9710\n",
            "[03] Tr. Loss: 0.0833 Te. Loss: 0.0781 Tr. Acc: 0.9748 Te. Acc: 0.9756\n",
            "[04] Tr. Loss: 0.0710 Te. Loss: 0.0760 Tr. Acc: 0.9782 Te. Acc: 0.9757\n",
            "[05] Tr. Loss: 0.0553 Te. Loss: 0.0751 Tr. Acc: 0.9827 Te. Acc: 0.9770\n",
            "[06] Tr. Loss: 0.0469 Te. Loss: 0.0606 Tr. Acc: 0.9856 Te. Acc: 0.9825\n",
            "[07] Tr. Loss: 0.0361 Te. Loss: 0.0631 Tr. Acc: 0.9885 Te. Acc: 0.9814\n",
            "[08] Tr. Loss: 0.0334 Te. Loss: 0.0628 Tr. Acc: 0.9894 Te. Acc: 0.9823\n",
            "[09] Tr. Loss: 0.0280 Te. Loss: 0.0592 Tr. Acc: 0.9911 Te. Acc: 0.9832\n",
            "[10] Tr. Loss: 0.0241 Te. Loss: 0.0614 Tr. Acc: 0.9925 Te. Acc: 0.9839\n",
            "[11] Tr. Loss: 0.0200 Te. Loss: 0.0598 Tr. Acc: 0.9937 Te. Acc: 0.9835\n",
            "[12] Tr. Loss: 0.0170 Te. Loss: 0.0575 Tr. Acc: 0.9946 Te. Acc: 0.9850\n",
            "[13] Tr. Loss: 0.0140 Te. Loss: 0.0597 Tr. Acc: 0.9956 Te. Acc: 0.9840\n",
            "[14] Tr. Loss: 0.0145 Te. Loss: 0.0571 Tr. Acc: 0.9954 Te. Acc: 0.9846\n",
            "[15] Tr. Loss: 0.0118 Te. Loss: 0.0569 Tr. Acc: 0.9965 Te. Acc: 0.9849\n",
            "[16] Tr. Loss: 0.0102 Te. Loss: 0.0560 Tr. Acc: 0.9969 Te. Acc: 0.9855\n",
            "[17] Tr. Loss: 0.0099 Te. Loss: 0.0557 Tr. Acc: 0.9971 Te. Acc: 0.9852\n",
            "[18] Tr. Loss: 0.0099 Te. Loss: 0.0562 Tr. Acc: 0.9970 Te. Acc: 0.9858\n",
            "[19] Tr. Loss: 0.0099 Te. Loss: 0.0562 Tr. Acc: 0.9971 Te. Acc: 0.9855\n"
          ]
        }
      ],
      "source": [
        "from functools import reduce\n",
        "from torch.optim import AdamW\n",
        "from torch.optim.lr_scheduler import CosineAnnealingLR\n",
        "\n",
        "def count_params(net):\n",
        "    nb_params = 0\n",
        "    for param in net.parameters():\n",
        "        nb_params += reduce(lambda x, y : x * y, param.shape)\n",
        "    return nb_params\n",
        "\n",
        "train_gen = sample_batch(tr_img.data, tr_img.targets, nb_batch=1024)\n",
        "\n",
        "nb_epochs = 20\n",
        "steps_per_epoch = 100\n",
        "\n",
        "loss_func = nn.CrossEntropyLoss()\n",
        "optimiser = AdamW(model.parameters(), lr=3e-4, weight_decay=1e-2)\n",
        "scheduler = CosineAnnealingLR(optimiser, nb_epochs)\n",
        "\n",
        "for epoch in range(nb_epochs):\n",
        "\n",
        "    model.train()\n",
        "    tr_loss, tr_acc = 0, 0\n",
        "\n",
        "    for i in range(steps_per_epoch):\n",
        "\n",
        "        batch = next(train_gen)\n",
        "        x_batch, y_batch = batch[0].to(device), batch[1].to(device)\n",
        "\n",
        "        outputs = model(x_batch)\n",
        "        loss = loss_func(outputs, y_batch)\n",
        "\n",
        "        optimiser.zero_grad()\n",
        "        loss.backward()\n",
        "        optimiser.step()\n",
        "\n",
        "        tr_loss += loss.item() / steps_per_epoch\n",
        "\n",
        "        preds = torch.argmax(outputs, axis=1)\n",
        "        tr_acc += torch.mean((preds == y_batch).double()) / steps_per_epoch\n",
        "\n",
        "    scheduler.step()\n",
        "\n",
        "    model.eval()\n",
        "\n",
        "    with torch.no_grad():\n",
        "        losses, preds, targets = [], [], []\n",
        "\n",
        "        for batch in iterate_dataset(te_img.data, te_img.targets):\n",
        "            x_batch, y_batch = batch[0].to(device), batch[1].to(device)\n",
        "            outputs = model(x_batch)\n",
        "\n",
        "            losses.append(loss_func(outputs, y_batch))\n",
        "            preds.extend(torch.argmax(outputs, axis=1).detach().cpu())\n",
        "            targets.extend(y_batch)\n",
        "\n",
        "        te_loss = torch.mean(torch.Tensor(losses))\n",
        "        te_acc = torch.mean((torch.Tensor(preds) == torch.Tensor(targets)).double())\n",
        "\n",
        "    write_flush('[%02d] Tr. Loss: %.04f Te. Loss: %.04f Tr. Acc: %.04f Te. Acc: %.04f' % (\n",
        "        epoch, tr_loss, te_loss, tr_acc, te_acc))"
      ]
    },
    {
      "cell_type": "markdown",
      "source": [
        "## Attentions"
      ],
      "metadata": {
        "id": "K_auALIZSLoe"
      }
    },
    {
      "cell_type": "code",
      "execution_count": 11,
      "metadata": {
        "id": "AmY1HipJKI5w"
      },
      "outputs": [],
      "source": [
        "x = next(iterate_dataset(te_img.data, te_img.targets))[0].to(device)\n",
        "\n",
        "x = model.patchify(x)\n",
        "x = model.encoder(x)\n",
        "x = model.pos_encoder(x)\n",
        "\n",
        "for i in range(4):\n",
        "    x = model.transformer_encoder.layers[i](x)\n",
        "\n",
        "_, attn = model.transformer_encoder.layers[3].self_attn(x, x, x)\n",
        "\n",
        "idx = torch.randint(128, (1,))[0]\n",
        "\n",
        "fig, axes = plt.subplots(ncols=2, figsize=(10, 5))\n",
        "\n",
        "axes[0].imshow(te_img.data[idx])\n",
        "axes[1].imshow(attn[idx].cpu().detach())"
      ]
    }
  ],
  "metadata": {
    "accelerator": "GPU",
    "colab": {
      "provenance": [],
      "gpuType": "T4"
    },
    "kernelspec": {
      "display_name": "Python 3",
      "name": "python3"
    },
    "language_info": {
      "name": "python"
    }
  },
  "nbformat": 4,
  "nbformat_minor": 0
}